{
 "metadata": {
  "language_info": {
   "codemirror_mode": {
    "name": "ipython",
    "version": 3
   },
   "file_extension": ".py",
   "mimetype": "text/x-python",
   "name": "python",
   "nbconvert_exporter": "python",
   "pygments_lexer": "ipython3",
   "version": "3.8.3"
  },
  "orig_nbformat": 2,
  "kernelspec": {
   "name": "python383jvsc74a57bd00d6ba7c136e62973ab63962a1d3667069dfad9d27e40dfd12540e841fa15596f",
   "display_name": "Python 3.8.3 64-bit ('base': conda)"
  }
 },
 "nbformat": 4,
 "nbformat_minor": 2,
 "cells": [
  {
   "source": [
    "# Data segmentation\n",
    "\n",
    "## Dataset transformation\n",
    "\n",
    "### Convert tiff files to png\n",
    "\n"
   ],
   "cell_type": "markdown",
   "metadata": {}
  },
  {
   "cell_type": "code",
   "execution_count": 5,
   "metadata": {},
   "outputs": [],
   "source": [
    "import os\n",
    "import cv2\n",
    "import matplotlib.pyplot as plt"
   ]
  },
  {
   "cell_type": "code",
   "execution_count": 6,
   "metadata": {},
   "outputs": [
    {
     "output_type": "stream",
     "name": "stdout",
     "text": [
      "['label', 'label_png', 'train', 'train_png']\n"
     ]
    }
   ],
   "source": [
    "\n",
    "folders=[]\n",
    "for root, dirs, files in os.walk(\"C:/Users/julie/Desktop/Data_segmentation/data_seg\"):\n",
    "    folders.append(dirs)\n",
    "\n",
    "print(folders[0])"
   ]
  },
  {
   "cell_type": "code",
   "execution_count": 7,
   "metadata": {},
   "outputs": [],
   "source": [
    "\n",
    "\n",
    "for directory in folders[0]:\n",
    "    for root, dirs, files in os.walk(f'C:/Users/julie/Desktop/Data_segmentation/data_seg/{directory}'):\n",
    "        for name in files:\n",
    "            if name.endswith((\".tif\")):\n",
    "                img=cv2.imread(f'C:/Users/julie/Desktop/Data_segmentation/data_seg/{directory}/{name}')\n",
    "                cv2.imwrite(f'C:/Users/julie/Desktop/Data_segmentation/data_seg/{directory}_png/{name[:-4]}.png',img)\n",
    "\n"
   ]
  },
  {
   "source": [
    "### Data augmentation with OpenCV"
   ],
   "cell_type": "markdown",
   "metadata": {}
  },
  {
   "cell_type": "code",
   "execution_count": 8,
   "metadata": {},
   "outputs": [],
   "source": [
    "def rotate(image, angle=90, scale=1.0):\n",
    "    '''\n",
    "    Rotation de l'image d'un angle et d'une echelle choisie\n",
    "    '''\n",
    "    w = image.shape[1]\n",
    "    h = image.shape[0]\n",
    "    #rotate matrix\n",
    "    M = cv2.getRotationMatrix2D((w/2,h/2), angle, scale)\n",
    "    #rotate\n",
    "    image = cv2.warpAffine(image,M,(w,h))\n",
    "    return image\n",
    "\n",
    "\n",
    "def flip(image, vflip=False, hflip=False):\n",
    "    '''\n",
    "    Retournement vertical ou horizontal de l'image\n",
    "    '''\n",
    "    if hflip or vflip:\n",
    "        if hflip and vflip:\n",
    "            c = -1\n",
    "        else:\n",
    "            c = 0 if vflip else 1\n",
    "        image = cv2.flip(image, flipCode=c)\n",
    "    return image \n",
    "\n",
    "def add_GaussianNoise(image,kernel_size=(5,5)):\n",
    "    '''\n",
    "    Ajout de flou gaussien sur l'image\n",
    "    '''\n",
    "    return cv2.GaussianBlur(image,kernel_size,cv2.BORDER_DEFAULT)\n",
    "\n",
    "def image_augment(filename, save_path): \n",
    "    '''\n",
    "    Creation des nouvelles images ( parametr: chemin de sauvegarde )\n",
    "    ''' \n",
    "    img = cv2.imread(filename)\n",
    "    # Nouvelle image retournée verticalement\n",
    "    img_flip = flip(img, vflip=True, hflip=False)\n",
    "    # Nouvelle image avec rotation de 45°\n",
    "    img_rot = rotate(img,angle=45)\n",
    "\n",
    "    #Nouvelle image avec un flou gaussien\n",
    "    img_gaussian = add_GaussianNoise(img)\n",
    "    \n",
    "    name_int = filename[:len(filename)-4]\n",
    "\n",
    "    # Sauvegarde des fichiers \n",
    "\n",
    "    cv2.imwrite(f'{save_path}{name_int}_vflip.png', img_flip)\n",
    "    cv2.imwrite(f'{save_path}{name_int}_rot.png', img_rot)\n",
    "    cv2.imwrite(f'{save_path}{name_int}_GaussianNoise.png', img_gaussian)"
   ]
  },
  {
   "cell_type": "code",
   "execution_count": 9,
   "metadata": {},
   "outputs": [],
   "source": [
    "\n",
    "\n",
    "folders=[]\n",
    "for root, dirs, files in os.walk(\"C:/Users/julie/Desktop/Data_segmentation/data_seg\"):\n",
    "    folders.append(dirs)\n",
    "\n",
    "\n",
    "for directory in folders[0]:\n",
    "    for root, dirs, files in os.walk(f'C:/Users/julie/Desktop/Data_segmentation/data_seg/{directory}'):\n",
    "        for name in files:\n",
    "\n",
    "            path=f'C:/Users/julie/Desktop/Data_segmentation/data_seg/{directory}/{name}'\n",
    "            save_path=f''\n",
    "    \n",
    "            image_augment(path,save_path)"
   ]
  },
  {
   "cell_type": "code",
   "execution_count": null,
   "metadata": {},
   "outputs": [],
   "source": []
  }
 ]
}